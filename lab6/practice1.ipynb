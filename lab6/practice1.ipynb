{
 "cells": [
  {
   "cell_type": "code",
   "execution_count": 8,
   "metadata": {
    "collapsed": true
   },
   "outputs": [],
   "source": [
    "import pandas as pd\n",
    "import numpy as np\n",
    "import plotly.graph_objects as go\n",
    "from plotly.offline import plot\n",
    "import matplotlib.pyplot as plt\n",
    "import datetime\n",
    "from pycoingecko import CoinGeckoAPI\n",
    "from mplfinance.original_flavor import candlestick2_ohlc"
   ]
  },
  {
   "cell_type": "code",
   "execution_count": 12,
   "outputs": [
    {
     "data": {
      "text/plain": "pandas.core.frame.DataFrame"
     },
     "execution_count": 12,
     "metadata": {},
     "output_type": "execute_result"
    }
   ],
   "source": [
    "dict_ = {'a':[11,21,31],'b':[12,22,32]}\n",
    "df = pd.DataFrame(dict_)\n",
    "\n",
    "type(df)"
   ],
   "metadata": {
    "collapsed": false,
    "pycharm": {
     "name": "#%%\n"
    }
   }
  },
  {
   "cell_type": "code",
   "execution_count": 13,
   "outputs": [
    {
     "data": {
      "text/plain": "    a   b\n0  11  12\n1  21  22\n2  31  32",
      "text/html": "<div>\n<style scoped>\n    .dataframe tbody tr th:only-of-type {\n        vertical-align: middle;\n    }\n\n    .dataframe tbody tr th {\n        vertical-align: top;\n    }\n\n    .dataframe thead th {\n        text-align: right;\n    }\n</style>\n<table border=\"1\" class=\"dataframe\">\n  <thead>\n    <tr style=\"text-align: right;\">\n      <th></th>\n      <th>a</th>\n      <th>b</th>\n    </tr>\n  </thead>\n  <tbody>\n    <tr>\n      <th>0</th>\n      <td>11</td>\n      <td>12</td>\n    </tr>\n    <tr>\n      <th>1</th>\n      <td>21</td>\n      <td>22</td>\n    </tr>\n    <tr>\n      <th>2</th>\n      <td>31</td>\n      <td>32</td>\n    </tr>\n  </tbody>\n</table>\n</div>"
     },
     "execution_count": 13,
     "metadata": {},
     "output_type": "execute_result"
    }
   ],
   "source": [
    "df.head()"
   ],
   "metadata": {
    "collapsed": false,
    "pycharm": {
     "name": "#%%\n"
    }
   }
  },
  {
   "cell_type": "code",
   "execution_count": 14,
   "outputs": [
    {
     "data": {
      "text/plain": "a    21.0\nb    22.0\ndtype: float64"
     },
     "execution_count": 14,
     "metadata": {},
     "output_type": "execute_result"
    }
   ],
   "source": [
    "df.mean()\n"
   ],
   "metadata": {
    "collapsed": false,
    "pycharm": {
     "name": "#%%\n"
    }
   }
  },
  {
   "cell_type": "code",
   "execution_count": 23,
   "outputs": [
    {
     "data": {
      "text/plain": "dict"
     },
     "execution_count": 23,
     "metadata": {},
     "output_type": "execute_result"
    }
   ],
   "source": [
    "cg = CoinGeckoAPI()\n",
    "bitcoin_data = cg.get_coin_market_chart_by_id(id=\"bitcoin\", vs_currency=\"USD\", days=30)\n",
    "type(bitcoin_data)"
   ],
   "metadata": {
    "collapsed": false,
    "pycharm": {
     "name": "#%%\n"
    }
   }
  },
  {
   "cell_type": "code",
   "execution_count": 24,
   "outputs": [
    {
     "data": {
      "text/plain": "[[1624824075563, 32989.537428752796],\n [1624827626180, 32767.219874254646],\n [1624831305882, 32890.84546346474],\n [1624834914218, 34506.09351678513],\n [1624838471532, 34624.69013425728]]"
     },
     "execution_count": 24,
     "metadata": {},
     "output_type": "execute_result"
    }
   ],
   "source": [
    "bitcoin_price_data = bitcoin_data[\"prices\"]\n",
    "bitcoin_price_data[0:5]"
   ],
   "metadata": {
    "collapsed": false,
    "pycharm": {
     "name": "#%%\n"
    }
   }
  },
  {
   "cell_type": "code",
   "execution_count": 31,
   "outputs": [
    {
     "data": {
      "text/plain": "          date         Price                                          \n                         min           max         first          last\n0   2021-06-28  32767.219874  35171.134943  32989.537429  34221.798326\n1   2021-06-29  34397.355809  36403.961527  34497.474576  36368.813426\n2   2021-06-30  34252.392988  36412.012476  36412.012476  34939.557451\n3   2021-07-01  33220.878788  35171.486305  34826.862297  33602.249732\n4   2021-07-02  32848.177624  33779.554214  33056.069850  33451.868572\n5   2021-07-03  33222.903140  34915.173221  33352.778190  34806.968157\n6   2021-07-04  34564.754842  35648.677914  34835.226219  35529.542188\n7   2021-07-05  33477.870784  35999.840044  35612.532834  34067.435205\n8   2021-07-06  33894.444808  34981.755700  34206.733559  33894.723039\n9   2021-07-07  33790.483678  34896.269656  34104.922779  34751.280670\n10  2021-07-08  32419.564309  34721.145363  34721.145363  32939.896209\n11  2021-07-09  32406.328806  33695.034152  32998.306758  33432.441051\n12  2021-07-10  33493.324363  34247.224326  33496.153581  33523.592736\n13  2021-07-11  33407.343222  34093.786683  33502.756471  34055.325192\n14  2021-07-12  33107.215917  34596.993395  33963.787206  33107.215917\n15  2021-07-13  32482.048243  33327.475007  32882.912733  32599.349024\n16  2021-07-14  31856.382637  32967.899682  32418.781521  32812.319196\n17  2021-07-15  31372.653494  33098.661964  32947.896063  31568.265878\n18  2021-07-16  31174.142554  32196.821372  31676.533720  32014.142121\n19  2021-07-17  31340.322628  31973.261936  31896.018788  31787.609350\n20  2021-07-18  31262.148761  32239.857247  31923.853802  31699.617332\n21  2021-07-19  30693.310473  31931.418112  31716.686420  30713.250156\n22  2021-07-20  29612.195330  30974.897413  30800.306605  29883.090527\n23  2021-07-21  29599.878053  32268.756320  29835.410529  32182.519789\n24  2021-07-22  31650.076046  32540.290282  31650.076046  32335.728530\n25  2021-07-23  32180.828599  32858.577162  32377.696904  32180.828599\n26  2021-07-24  32311.139560  34458.753006  32311.139560  34296.212018\n27  2021-07-25  33813.303979  34749.942488  33813.303979  34435.261366\n28  2021-07-26  34392.009157  39841.370269  34392.009157  39841.370269\n29  2021-07-27  36547.977268  39580.479489  39580.479489  38050.768623",
      "text/html": "<div>\n<style scoped>\n    .dataframe tbody tr th:only-of-type {\n        vertical-align: middle;\n    }\n\n    .dataframe tbody tr th {\n        vertical-align: top;\n    }\n\n    .dataframe thead tr th {\n        text-align: left;\n    }\n</style>\n<table border=\"1\" class=\"dataframe\">\n  <thead>\n    <tr>\n      <th></th>\n      <th>date</th>\n      <th colspan=\"4\" halign=\"left\">Price</th>\n    </tr>\n    <tr>\n      <th></th>\n      <th></th>\n      <th>min</th>\n      <th>max</th>\n      <th>first</th>\n      <th>last</th>\n    </tr>\n  </thead>\n  <tbody>\n    <tr>\n      <th>0</th>\n      <td>2021-06-28</td>\n      <td>32767.219874</td>\n      <td>35171.134943</td>\n      <td>32989.537429</td>\n      <td>34221.798326</td>\n    </tr>\n    <tr>\n      <th>1</th>\n      <td>2021-06-29</td>\n      <td>34397.355809</td>\n      <td>36403.961527</td>\n      <td>34497.474576</td>\n      <td>36368.813426</td>\n    </tr>\n    <tr>\n      <th>2</th>\n      <td>2021-06-30</td>\n      <td>34252.392988</td>\n      <td>36412.012476</td>\n      <td>36412.012476</td>\n      <td>34939.557451</td>\n    </tr>\n    <tr>\n      <th>3</th>\n      <td>2021-07-01</td>\n      <td>33220.878788</td>\n      <td>35171.486305</td>\n      <td>34826.862297</td>\n      <td>33602.249732</td>\n    </tr>\n    <tr>\n      <th>4</th>\n      <td>2021-07-02</td>\n      <td>32848.177624</td>\n      <td>33779.554214</td>\n      <td>33056.069850</td>\n      <td>33451.868572</td>\n    </tr>\n    <tr>\n      <th>5</th>\n      <td>2021-07-03</td>\n      <td>33222.903140</td>\n      <td>34915.173221</td>\n      <td>33352.778190</td>\n      <td>34806.968157</td>\n    </tr>\n    <tr>\n      <th>6</th>\n      <td>2021-07-04</td>\n      <td>34564.754842</td>\n      <td>35648.677914</td>\n      <td>34835.226219</td>\n      <td>35529.542188</td>\n    </tr>\n    <tr>\n      <th>7</th>\n      <td>2021-07-05</td>\n      <td>33477.870784</td>\n      <td>35999.840044</td>\n      <td>35612.532834</td>\n      <td>34067.435205</td>\n    </tr>\n    <tr>\n      <th>8</th>\n      <td>2021-07-06</td>\n      <td>33894.444808</td>\n      <td>34981.755700</td>\n      <td>34206.733559</td>\n      <td>33894.723039</td>\n    </tr>\n    <tr>\n      <th>9</th>\n      <td>2021-07-07</td>\n      <td>33790.483678</td>\n      <td>34896.269656</td>\n      <td>34104.922779</td>\n      <td>34751.280670</td>\n    </tr>\n    <tr>\n      <th>10</th>\n      <td>2021-07-08</td>\n      <td>32419.564309</td>\n      <td>34721.145363</td>\n      <td>34721.145363</td>\n      <td>32939.896209</td>\n    </tr>\n    <tr>\n      <th>11</th>\n      <td>2021-07-09</td>\n      <td>32406.328806</td>\n      <td>33695.034152</td>\n      <td>32998.306758</td>\n      <td>33432.441051</td>\n    </tr>\n    <tr>\n      <th>12</th>\n      <td>2021-07-10</td>\n      <td>33493.324363</td>\n      <td>34247.224326</td>\n      <td>33496.153581</td>\n      <td>33523.592736</td>\n    </tr>\n    <tr>\n      <th>13</th>\n      <td>2021-07-11</td>\n      <td>33407.343222</td>\n      <td>34093.786683</td>\n      <td>33502.756471</td>\n      <td>34055.325192</td>\n    </tr>\n    <tr>\n      <th>14</th>\n      <td>2021-07-12</td>\n      <td>33107.215917</td>\n      <td>34596.993395</td>\n      <td>33963.787206</td>\n      <td>33107.215917</td>\n    </tr>\n    <tr>\n      <th>15</th>\n      <td>2021-07-13</td>\n      <td>32482.048243</td>\n      <td>33327.475007</td>\n      <td>32882.912733</td>\n      <td>32599.349024</td>\n    </tr>\n    <tr>\n      <th>16</th>\n      <td>2021-07-14</td>\n      <td>31856.382637</td>\n      <td>32967.899682</td>\n      <td>32418.781521</td>\n      <td>32812.319196</td>\n    </tr>\n    <tr>\n      <th>17</th>\n      <td>2021-07-15</td>\n      <td>31372.653494</td>\n      <td>33098.661964</td>\n      <td>32947.896063</td>\n      <td>31568.265878</td>\n    </tr>\n    <tr>\n      <th>18</th>\n      <td>2021-07-16</td>\n      <td>31174.142554</td>\n      <td>32196.821372</td>\n      <td>31676.533720</td>\n      <td>32014.142121</td>\n    </tr>\n    <tr>\n      <th>19</th>\n      <td>2021-07-17</td>\n      <td>31340.322628</td>\n      <td>31973.261936</td>\n      <td>31896.018788</td>\n      <td>31787.609350</td>\n    </tr>\n    <tr>\n      <th>20</th>\n      <td>2021-07-18</td>\n      <td>31262.148761</td>\n      <td>32239.857247</td>\n      <td>31923.853802</td>\n      <td>31699.617332</td>\n    </tr>\n    <tr>\n      <th>21</th>\n      <td>2021-07-19</td>\n      <td>30693.310473</td>\n      <td>31931.418112</td>\n      <td>31716.686420</td>\n      <td>30713.250156</td>\n    </tr>\n    <tr>\n      <th>22</th>\n      <td>2021-07-20</td>\n      <td>29612.195330</td>\n      <td>30974.897413</td>\n      <td>30800.306605</td>\n      <td>29883.090527</td>\n    </tr>\n    <tr>\n      <th>23</th>\n      <td>2021-07-21</td>\n      <td>29599.878053</td>\n      <td>32268.756320</td>\n      <td>29835.410529</td>\n      <td>32182.519789</td>\n    </tr>\n    <tr>\n      <th>24</th>\n      <td>2021-07-22</td>\n      <td>31650.076046</td>\n      <td>32540.290282</td>\n      <td>31650.076046</td>\n      <td>32335.728530</td>\n    </tr>\n    <tr>\n      <th>25</th>\n      <td>2021-07-23</td>\n      <td>32180.828599</td>\n      <td>32858.577162</td>\n      <td>32377.696904</td>\n      <td>32180.828599</td>\n    </tr>\n    <tr>\n      <th>26</th>\n      <td>2021-07-24</td>\n      <td>32311.139560</td>\n      <td>34458.753006</td>\n      <td>32311.139560</td>\n      <td>34296.212018</td>\n    </tr>\n    <tr>\n      <th>27</th>\n      <td>2021-07-25</td>\n      <td>33813.303979</td>\n      <td>34749.942488</td>\n      <td>33813.303979</td>\n      <td>34435.261366</td>\n    </tr>\n    <tr>\n      <th>28</th>\n      <td>2021-07-26</td>\n      <td>34392.009157</td>\n      <td>39841.370269</td>\n      <td>34392.009157</td>\n      <td>39841.370269</td>\n    </tr>\n    <tr>\n      <th>29</th>\n      <td>2021-07-27</td>\n      <td>36547.977268</td>\n      <td>39580.479489</td>\n      <td>39580.479489</td>\n      <td>38050.768623</td>\n    </tr>\n  </tbody>\n</table>\n</div>"
     },
     "execution_count": 31,
     "metadata": {},
     "output_type": "execute_result"
    }
   ],
   "source": [
    "data = pd.DataFrame(bitcoin_price_data, columns=['TimeStamp', 'Price'])\n",
    "data['date'] = data['TimeStamp'].apply(lambda d: datetime.date.fromtimestamp(d/1000.0))\n",
    "candlestick_data = data.groupby(data.date, as_index=False).agg({\"Price\": ['min', 'max', 'first', 'last']})\n",
    "candlestick_data"
   ],
   "metadata": {
    "collapsed": false,
    "pycharm": {
     "name": "#%%\n"
    }
   }
  },
  {
   "cell_type": "code",
   "execution_count": 30,
   "outputs": [
    {
     "data": {
      "application/vnd.plotly.v1+json": {
       "config": {
        "plotlyServerURL": "https://plot.ly"
       },
       "data": [
        {
         "close": [
          20130.469603818456,
          21393.41966260602,
          20552.68085359261,
          19766.02925409521,
          19677.569748010745,
          20474.68715126285,
          20899.730698966854,
          20039.667767570627,
          19938.072376099095,
          20441.929805844327,
          19376.409534651386,
          19666.141794619783,
          19719.76043294834,
          20032.544230619453,
          19474.832892248633,
          19176.087661043894,
          19301.3642330507,
          18569.568163701446,
          18831.848306669723,
          18698.593735566265,
          18646.83372472045,
          18066.617739089816,
          17578.288545483978,
          18930.89399368891,
          19021.016782390285,
          18929.899175986073,
          20174.242363683406,
          20256.036097370103,
          23436.100158315032,
          22382.805072161904
         ],
         "high": [
          20688.902907577907,
          21414.095015725292,
          21418.83086851882,
          20689.10959108827,
          19870.32600804506,
          20538.337188705525,
          20969.810537672045,
          21176.376496460172,
          20577.503353120585,
          20527.217444941056,
          20424.20315452681,
          19820.60832482512,
          20145.42607407586,
          20055.168637233288,
          20351.1725850132,
          19604.397063180375,
          19392.882165687493,
          19469.80115534343,
          18939.306689177636,
          18807.801138878647,
          18964.621910047623,
          18783.18712469733,
          18220.52788996913,
          18981.621364782783,
          19141.34722472558,
          19328.574800907907,
          20269.854709144824,
          20441.142639804362,
          23436.100158315032,
          23282.634993790212
         ],
         "low": [
          19274.83522014979,
          20233.73871134827,
          20148.466463256314,
          19541.693404514415,
          19322.457425949062,
          19542.88420016608,
          20332.20873034298,
          19692.865167274147,
          19937.908710484542,
          19876.75510486916,
          19070.33194643763,
          19062.54635655935,
          19701.955507628678,
          19651.37836569919,
          19474.832892248633,
          19107.087202007533,
          18739.04860978807,
          18454.502055074816,
          18337.730914010815,
          18435.483899105184,
          18389.499271378343,
          18054.888513474863,
          17418.938429238835,
          17411.69297241441,
          18617.69179152919,
          18929.899175986073,
          19006.552682646507,
          19890.178811324568,
          20230.593621572458,
          21498.810157849653
         ],
         "open": [
          19405.610252207527,
          20292.63210340026,
          21418.83086851882,
          20486.389586489062,
          19444.746970340537,
          19619.281288215938,
          20491.309540781138,
          20948.548726158733,
          20121.607975992618,
          20061.719281657995,
          20424.20315452681,
          19410.76868119075,
          19703.619753613133,
          19707.503806288885,
          19978.698356740184,
          19342.889843221386,
          19069.871482976112,
          19381.115331347675,
          18633.255129203324,
          18762.363992814273,
          18778.737530679246,
          18656.874364801108,
          18117.827414778338,
          17550.241487564264,
          18617.69179152919,
          19045.704061229495,
          19006.552682646507,
          19890.178811324568,
          20230.593621572458,
          23282.634993790212
         ],
         "type": "candlestick",
         "x": [
          "2021-06-28",
          "2021-06-29",
          "2021-06-30",
          "2021-07-01",
          "2021-07-02",
          "2021-07-03",
          "2021-07-04",
          "2021-07-05",
          "2021-07-06",
          "2021-07-07",
          "2021-07-08",
          "2021-07-09",
          "2021-07-10",
          "2021-07-11",
          "2021-07-12",
          "2021-07-13",
          "2021-07-14",
          "2021-07-15",
          "2021-07-16",
          "2021-07-17",
          "2021-07-18",
          "2021-07-19",
          "2021-07-20",
          "2021-07-21",
          "2021-07-22",
          "2021-07-23",
          "2021-07-24",
          "2021-07-25",
          "2021-07-26",
          "2021-07-27"
         ]
        }
       ],
       "layout": {
        "template": {
         "data": {
          "bar": [
           {
            "error_x": {
             "color": "#2a3f5f"
            },
            "error_y": {
             "color": "#2a3f5f"
            },
            "marker": {
             "line": {
              "color": "#E5ECF6",
              "width": 0.5
             },
             "pattern": {
              "fillmode": "overlay",
              "size": 10,
              "solidity": 0.2
             }
            },
            "type": "bar"
           }
          ],
          "barpolar": [
           {
            "marker": {
             "line": {
              "color": "#E5ECF6",
              "width": 0.5
             },
             "pattern": {
              "fillmode": "overlay",
              "size": 10,
              "solidity": 0.2
             }
            },
            "type": "barpolar"
           }
          ],
          "carpet": [
           {
            "aaxis": {
             "endlinecolor": "#2a3f5f",
             "gridcolor": "white",
             "linecolor": "white",
             "minorgridcolor": "white",
             "startlinecolor": "#2a3f5f"
            },
            "baxis": {
             "endlinecolor": "#2a3f5f",
             "gridcolor": "white",
             "linecolor": "white",
             "minorgridcolor": "white",
             "startlinecolor": "#2a3f5f"
            },
            "type": "carpet"
           }
          ],
          "choropleth": [
           {
            "colorbar": {
             "outlinewidth": 0,
             "ticks": ""
            },
            "type": "choropleth"
           }
          ],
          "contour": [
           {
            "colorbar": {
             "outlinewidth": 0,
             "ticks": ""
            },
            "colorscale": [
             [
              0.0,
              "#0d0887"
             ],
             [
              0.1111111111111111,
              "#46039f"
             ],
             [
              0.2222222222222222,
              "#7201a8"
             ],
             [
              0.3333333333333333,
              "#9c179e"
             ],
             [
              0.4444444444444444,
              "#bd3786"
             ],
             [
              0.5555555555555556,
              "#d8576b"
             ],
             [
              0.6666666666666666,
              "#ed7953"
             ],
             [
              0.7777777777777778,
              "#fb9f3a"
             ],
             [
              0.8888888888888888,
              "#fdca26"
             ],
             [
              1.0,
              "#f0f921"
             ]
            ],
            "type": "contour"
           }
          ],
          "contourcarpet": [
           {
            "colorbar": {
             "outlinewidth": 0,
             "ticks": ""
            },
            "type": "contourcarpet"
           }
          ],
          "heatmap": [
           {
            "colorbar": {
             "outlinewidth": 0,
             "ticks": ""
            },
            "colorscale": [
             [
              0.0,
              "#0d0887"
             ],
             [
              0.1111111111111111,
              "#46039f"
             ],
             [
              0.2222222222222222,
              "#7201a8"
             ],
             [
              0.3333333333333333,
              "#9c179e"
             ],
             [
              0.4444444444444444,
              "#bd3786"
             ],
             [
              0.5555555555555556,
              "#d8576b"
             ],
             [
              0.6666666666666666,
              "#ed7953"
             ],
             [
              0.7777777777777778,
              "#fb9f3a"
             ],
             [
              0.8888888888888888,
              "#fdca26"
             ],
             [
              1.0,
              "#f0f921"
             ]
            ],
            "type": "heatmap"
           }
          ],
          "heatmapgl": [
           {
            "colorbar": {
             "outlinewidth": 0,
             "ticks": ""
            },
            "colorscale": [
             [
              0.0,
              "#0d0887"
             ],
             [
              0.1111111111111111,
              "#46039f"
             ],
             [
              0.2222222222222222,
              "#7201a8"
             ],
             [
              0.3333333333333333,
              "#9c179e"
             ],
             [
              0.4444444444444444,
              "#bd3786"
             ],
             [
              0.5555555555555556,
              "#d8576b"
             ],
             [
              0.6666666666666666,
              "#ed7953"
             ],
             [
              0.7777777777777778,
              "#fb9f3a"
             ],
             [
              0.8888888888888888,
              "#fdca26"
             ],
             [
              1.0,
              "#f0f921"
             ]
            ],
            "type": "heatmapgl"
           }
          ],
          "histogram": [
           {
            "marker": {
             "pattern": {
              "fillmode": "overlay",
              "size": 10,
              "solidity": 0.2
             }
            },
            "type": "histogram"
           }
          ],
          "histogram2d": [
           {
            "colorbar": {
             "outlinewidth": 0,
             "ticks": ""
            },
            "colorscale": [
             [
              0.0,
              "#0d0887"
             ],
             [
              0.1111111111111111,
              "#46039f"
             ],
             [
              0.2222222222222222,
              "#7201a8"
             ],
             [
              0.3333333333333333,
              "#9c179e"
             ],
             [
              0.4444444444444444,
              "#bd3786"
             ],
             [
              0.5555555555555556,
              "#d8576b"
             ],
             [
              0.6666666666666666,
              "#ed7953"
             ],
             [
              0.7777777777777778,
              "#fb9f3a"
             ],
             [
              0.8888888888888888,
              "#fdca26"
             ],
             [
              1.0,
              "#f0f921"
             ]
            ],
            "type": "histogram2d"
           }
          ],
          "histogram2dcontour": [
           {
            "colorbar": {
             "outlinewidth": 0,
             "ticks": ""
            },
            "colorscale": [
             [
              0.0,
              "#0d0887"
             ],
             [
              0.1111111111111111,
              "#46039f"
             ],
             [
              0.2222222222222222,
              "#7201a8"
             ],
             [
              0.3333333333333333,
              "#9c179e"
             ],
             [
              0.4444444444444444,
              "#bd3786"
             ],
             [
              0.5555555555555556,
              "#d8576b"
             ],
             [
              0.6666666666666666,
              "#ed7953"
             ],
             [
              0.7777777777777778,
              "#fb9f3a"
             ],
             [
              0.8888888888888888,
              "#fdca26"
             ],
             [
              1.0,
              "#f0f921"
             ]
            ],
            "type": "histogram2dcontour"
           }
          ],
          "mesh3d": [
           {
            "colorbar": {
             "outlinewidth": 0,
             "ticks": ""
            },
            "type": "mesh3d"
           }
          ],
          "parcoords": [
           {
            "line": {
             "colorbar": {
              "outlinewidth": 0,
              "ticks": ""
             }
            },
            "type": "parcoords"
           }
          ],
          "pie": [
           {
            "automargin": true,
            "type": "pie"
           }
          ],
          "scatter": [
           {
            "marker": {
             "colorbar": {
              "outlinewidth": 0,
              "ticks": ""
             }
            },
            "type": "scatter"
           }
          ],
          "scatter3d": [
           {
            "line": {
             "colorbar": {
              "outlinewidth": 0,
              "ticks": ""
             }
            },
            "marker": {
             "colorbar": {
              "outlinewidth": 0,
              "ticks": ""
             }
            },
            "type": "scatter3d"
           }
          ],
          "scattercarpet": [
           {
            "marker": {
             "colorbar": {
              "outlinewidth": 0,
              "ticks": ""
             }
            },
            "type": "scattercarpet"
           }
          ],
          "scattergeo": [
           {
            "marker": {
             "colorbar": {
              "outlinewidth": 0,
              "ticks": ""
             }
            },
            "type": "scattergeo"
           }
          ],
          "scattergl": [
           {
            "marker": {
             "colorbar": {
              "outlinewidth": 0,
              "ticks": ""
             }
            },
            "type": "scattergl"
           }
          ],
          "scattermapbox": [
           {
            "marker": {
             "colorbar": {
              "outlinewidth": 0,
              "ticks": ""
             }
            },
            "type": "scattermapbox"
           }
          ],
          "scatterpolar": [
           {
            "marker": {
             "colorbar": {
              "outlinewidth": 0,
              "ticks": ""
             }
            },
            "type": "scatterpolar"
           }
          ],
          "scatterpolargl": [
           {
            "marker": {
             "colorbar": {
              "outlinewidth": 0,
              "ticks": ""
             }
            },
            "type": "scatterpolargl"
           }
          ],
          "scatterternary": [
           {
            "marker": {
             "colorbar": {
              "outlinewidth": 0,
              "ticks": ""
             }
            },
            "type": "scatterternary"
           }
          ],
          "surface": [
           {
            "colorbar": {
             "outlinewidth": 0,
             "ticks": ""
            },
            "colorscale": [
             [
              0.0,
              "#0d0887"
             ],
             [
              0.1111111111111111,
              "#46039f"
             ],
             [
              0.2222222222222222,
              "#7201a8"
             ],
             [
              0.3333333333333333,
              "#9c179e"
             ],
             [
              0.4444444444444444,
              "#bd3786"
             ],
             [
              0.5555555555555556,
              "#d8576b"
             ],
             [
              0.6666666666666666,
              "#ed7953"
             ],
             [
              0.7777777777777778,
              "#fb9f3a"
             ],
             [
              0.8888888888888888,
              "#fdca26"
             ],
             [
              1.0,
              "#f0f921"
             ]
            ],
            "type": "surface"
           }
          ],
          "table": [
           {
            "cells": {
             "fill": {
              "color": "#EBF0F8"
             },
             "line": {
              "color": "white"
             }
            },
            "header": {
             "fill": {
              "color": "#C8D4E3"
             },
             "line": {
              "color": "white"
             }
            },
            "type": "table"
           }
          ]
         },
         "layout": {
          "annotationdefaults": {
           "arrowcolor": "#2a3f5f",
           "arrowhead": 0,
           "arrowwidth": 1
          },
          "autotypenumbers": "strict",
          "coloraxis": {
           "colorbar": {
            "outlinewidth": 0,
            "ticks": ""
           }
          },
          "colorscale": {
           "diverging": [
            [
             0,
             "#8e0152"
            ],
            [
             0.1,
             "#c51b7d"
            ],
            [
             0.2,
             "#de77ae"
            ],
            [
             0.3,
             "#f1b6da"
            ],
            [
             0.4,
             "#fde0ef"
            ],
            [
             0.5,
             "#f7f7f7"
            ],
            [
             0.6,
             "#e6f5d0"
            ],
            [
             0.7,
             "#b8e186"
            ],
            [
             0.8,
             "#7fbc41"
            ],
            [
             0.9,
             "#4d9221"
            ],
            [
             1,
             "#276419"
            ]
           ],
           "sequential": [
            [
             0.0,
             "#0d0887"
            ],
            [
             0.1111111111111111,
             "#46039f"
            ],
            [
             0.2222222222222222,
             "#7201a8"
            ],
            [
             0.3333333333333333,
             "#9c179e"
            ],
            [
             0.4444444444444444,
             "#bd3786"
            ],
            [
             0.5555555555555556,
             "#d8576b"
            ],
            [
             0.6666666666666666,
             "#ed7953"
            ],
            [
             0.7777777777777778,
             "#fb9f3a"
            ],
            [
             0.8888888888888888,
             "#fdca26"
            ],
            [
             1.0,
             "#f0f921"
            ]
           ],
           "sequentialminus": [
            [
             0.0,
             "#0d0887"
            ],
            [
             0.1111111111111111,
             "#46039f"
            ],
            [
             0.2222222222222222,
             "#7201a8"
            ],
            [
             0.3333333333333333,
             "#9c179e"
            ],
            [
             0.4444444444444444,
             "#bd3786"
            ],
            [
             0.5555555555555556,
             "#d8576b"
            ],
            [
             0.6666666666666666,
             "#ed7953"
            ],
            [
             0.7777777777777778,
             "#fb9f3a"
            ],
            [
             0.8888888888888888,
             "#fdca26"
            ],
            [
             1.0,
             "#f0f921"
            ]
           ]
          },
          "colorway": [
           "#636efa",
           "#EF553B",
           "#00cc96",
           "#ab63fa",
           "#FFA15A",
           "#19d3f3",
           "#FF6692",
           "#B6E880",
           "#FF97FF",
           "#FECB52"
          ],
          "font": {
           "color": "#2a3f5f"
          },
          "geo": {
           "bgcolor": "white",
           "lakecolor": "white",
           "landcolor": "#E5ECF6",
           "showlakes": true,
           "showland": true,
           "subunitcolor": "white"
          },
          "hoverlabel": {
           "align": "left"
          },
          "hovermode": "closest",
          "mapbox": {
           "style": "light"
          },
          "paper_bgcolor": "white",
          "plot_bgcolor": "#E5ECF6",
          "polar": {
           "angularaxis": {
            "gridcolor": "white",
            "linecolor": "white",
            "ticks": ""
           },
           "bgcolor": "#E5ECF6",
           "radialaxis": {
            "gridcolor": "white",
            "linecolor": "white",
            "ticks": ""
           }
          },
          "scene": {
           "xaxis": {
            "backgroundcolor": "#E5ECF6",
            "gridcolor": "white",
            "gridwidth": 2,
            "linecolor": "white",
            "showbackground": true,
            "ticks": "",
            "zerolinecolor": "white"
           },
           "yaxis": {
            "backgroundcolor": "#E5ECF6",
            "gridcolor": "white",
            "gridwidth": 2,
            "linecolor": "white",
            "showbackground": true,
            "ticks": "",
            "zerolinecolor": "white"
           },
           "zaxis": {
            "backgroundcolor": "#E5ECF6",
            "gridcolor": "white",
            "gridwidth": 2,
            "linecolor": "white",
            "showbackground": true,
            "ticks": "",
            "zerolinecolor": "white"
           }
          },
          "shapedefaults": {
           "line": {
            "color": "#2a3f5f"
           }
          },
          "ternary": {
           "aaxis": {
            "gridcolor": "white",
            "linecolor": "white",
            "ticks": ""
           },
           "baxis": {
            "gridcolor": "white",
            "linecolor": "white",
            "ticks": ""
           },
           "bgcolor": "#E5ECF6",
           "caxis": {
            "gridcolor": "white",
            "linecolor": "white",
            "ticks": ""
           }
          },
          "title": {
           "x": 0.05
          },
          "xaxis": {
           "automargin": true,
           "gridcolor": "white",
           "linecolor": "white",
           "ticks": "",
           "title": {
            "standoff": 15
           },
           "zerolinecolor": "white",
           "zerolinewidth": 2
          },
          "yaxis": {
           "automargin": true,
           "gridcolor": "white",
           "linecolor": "white",
           "ticks": "",
           "title": {
            "standoff": 15
           },
           "zerolinecolor": "white",
           "zerolinewidth": 2
          }
         }
        },
        "xaxis": {
         "rangeslider": {
          "visible": false
         }
        }
       }
      },
      "text/html": "<div>                            <div id=\"c152585c-e00f-4e1e-a40a-cdeb56a4c55c\" class=\"plotly-graph-div\" style=\"height:525px; width:100%;\"></div>            <script type=\"text/javascript\">                require([\"plotly\"], function(Plotly) {                    window.PLOTLYENV=window.PLOTLYENV || {};                                    if (document.getElementById(\"c152585c-e00f-4e1e-a40a-cdeb56a4c55c\")) {                    Plotly.newPlot(                        \"c152585c-e00f-4e1e-a40a-cdeb56a4c55c\",                        [{\"close\":[20130.469603818456,21393.41966260602,20552.68085359261,19766.02925409521,19677.569748010745,20474.68715126285,20899.730698966854,20039.667767570627,19938.072376099095,20441.929805844327,19376.409534651386,19666.141794619783,19719.76043294834,20032.544230619453,19474.832892248633,19176.087661043894,19301.3642330507,18569.568163701446,18831.848306669723,18698.593735566265,18646.83372472045,18066.617739089816,17578.288545483978,18930.89399368891,19021.016782390285,18929.899175986073,20174.242363683406,20256.036097370103,23436.100158315032,22382.805072161904],\"high\":[20688.902907577907,21414.095015725292,21418.83086851882,20689.10959108827,19870.32600804506,20538.337188705525,20969.810537672045,21176.376496460172,20577.503353120585,20527.217444941056,20424.20315452681,19820.60832482512,20145.42607407586,20055.168637233288,20351.1725850132,19604.397063180375,19392.882165687493,19469.80115534343,18939.306689177636,18807.801138878647,18964.621910047623,18783.18712469733,18220.52788996913,18981.621364782783,19141.34722472558,19328.574800907907,20269.854709144824,20441.142639804362,23436.100158315032,23282.634993790212],\"low\":[19274.83522014979,20233.73871134827,20148.466463256314,19541.693404514415,19322.457425949062,19542.88420016608,20332.20873034298,19692.865167274147,19937.908710484542,19876.75510486916,19070.33194643763,19062.54635655935,19701.955507628678,19651.37836569919,19474.832892248633,19107.087202007533,18739.04860978807,18454.502055074816,18337.730914010815,18435.483899105184,18389.499271378343,18054.888513474863,17418.938429238835,17411.69297241441,18617.69179152919,18929.899175986073,19006.552682646507,19890.178811324568,20230.593621572458,21498.810157849653],\"open\":[19405.610252207527,20292.63210340026,21418.83086851882,20486.389586489062,19444.746970340537,19619.281288215938,20491.309540781138,20948.548726158733,20121.607975992618,20061.719281657995,20424.20315452681,19410.76868119075,19703.619753613133,19707.503806288885,19978.698356740184,19342.889843221386,19069.871482976112,19381.115331347675,18633.255129203324,18762.363992814273,18778.737530679246,18656.874364801108,18117.827414778338,17550.241487564264,18617.69179152919,19045.704061229495,19006.552682646507,19890.178811324568,20230.593621572458,23282.634993790212],\"type\":\"candlestick\",\"x\":[\"2021-06-28\",\"2021-06-29\",\"2021-06-30\",\"2021-07-01\",\"2021-07-02\",\"2021-07-03\",\"2021-07-04\",\"2021-07-05\",\"2021-07-06\",\"2021-07-07\",\"2021-07-08\",\"2021-07-09\",\"2021-07-10\",\"2021-07-11\",\"2021-07-12\",\"2021-07-13\",\"2021-07-14\",\"2021-07-15\",\"2021-07-16\",\"2021-07-17\",\"2021-07-18\",\"2021-07-19\",\"2021-07-20\",\"2021-07-21\",\"2021-07-22\",\"2021-07-23\",\"2021-07-24\",\"2021-07-25\",\"2021-07-26\",\"2021-07-27\"]}],                        {\"template\":{\"data\":{\"bar\":[{\"error_x\":{\"color\":\"#2a3f5f\"},\"error_y\":{\"color\":\"#2a3f5f\"},\"marker\":{\"line\":{\"color\":\"#E5ECF6\",\"width\":0.5},\"pattern\":{\"fillmode\":\"overlay\",\"size\":10,\"solidity\":0.2}},\"type\":\"bar\"}],\"barpolar\":[{\"marker\":{\"line\":{\"color\":\"#E5ECF6\",\"width\":0.5},\"pattern\":{\"fillmode\":\"overlay\",\"size\":10,\"solidity\":0.2}},\"type\":\"barpolar\"}],\"carpet\":[{\"aaxis\":{\"endlinecolor\":\"#2a3f5f\",\"gridcolor\":\"white\",\"linecolor\":\"white\",\"minorgridcolor\":\"white\",\"startlinecolor\":\"#2a3f5f\"},\"baxis\":{\"endlinecolor\":\"#2a3f5f\",\"gridcolor\":\"white\",\"linecolor\":\"white\",\"minorgridcolor\":\"white\",\"startlinecolor\":\"#2a3f5f\"},\"type\":\"carpet\"}],\"choropleth\":[{\"colorbar\":{\"outlinewidth\":0,\"ticks\":\"\"},\"type\":\"choropleth\"}],\"contour\":[{\"colorbar\":{\"outlinewidth\":0,\"ticks\":\"\"},\"colorscale\":[[0.0,\"#0d0887\"],[0.1111111111111111,\"#46039f\"],[0.2222222222222222,\"#7201a8\"],[0.3333333333333333,\"#9c179e\"],[0.4444444444444444,\"#bd3786\"],[0.5555555555555556,\"#d8576b\"],[0.6666666666666666,\"#ed7953\"],[0.7777777777777778,\"#fb9f3a\"],[0.8888888888888888,\"#fdca26\"],[1.0,\"#f0f921\"]],\"type\":\"contour\"}],\"contourcarpet\":[{\"colorbar\":{\"outlinewidth\":0,\"ticks\":\"\"},\"type\":\"contourcarpet\"}],\"heatmap\":[{\"colorbar\":{\"outlinewidth\":0,\"ticks\":\"\"},\"colorscale\":[[0.0,\"#0d0887\"],[0.1111111111111111,\"#46039f\"],[0.2222222222222222,\"#7201a8\"],[0.3333333333333333,\"#9c179e\"],[0.4444444444444444,\"#bd3786\"],[0.5555555555555556,\"#d8576b\"],[0.6666666666666666,\"#ed7953\"],[0.7777777777777778,\"#fb9f3a\"],[0.8888888888888888,\"#fdca26\"],[1.0,\"#f0f921\"]],\"type\":\"heatmap\"}],\"heatmapgl\":[{\"colorbar\":{\"outlinewidth\":0,\"ticks\":\"\"},\"colorscale\":[[0.0,\"#0d0887\"],[0.1111111111111111,\"#46039f\"],[0.2222222222222222,\"#7201a8\"],[0.3333333333333333,\"#9c179e\"],[0.4444444444444444,\"#bd3786\"],[0.5555555555555556,\"#d8576b\"],[0.6666666666666666,\"#ed7953\"],[0.7777777777777778,\"#fb9f3a\"],[0.8888888888888888,\"#fdca26\"],[1.0,\"#f0f921\"]],\"type\":\"heatmapgl\"}],\"histogram\":[{\"marker\":{\"pattern\":{\"fillmode\":\"overlay\",\"size\":10,\"solidity\":0.2}},\"type\":\"histogram\"}],\"histogram2d\":[{\"colorbar\":{\"outlinewidth\":0,\"ticks\":\"\"},\"colorscale\":[[0.0,\"#0d0887\"],[0.1111111111111111,\"#46039f\"],[0.2222222222222222,\"#7201a8\"],[0.3333333333333333,\"#9c179e\"],[0.4444444444444444,\"#bd3786\"],[0.5555555555555556,\"#d8576b\"],[0.6666666666666666,\"#ed7953\"],[0.7777777777777778,\"#fb9f3a\"],[0.8888888888888888,\"#fdca26\"],[1.0,\"#f0f921\"]],\"type\":\"histogram2d\"}],\"histogram2dcontour\":[{\"colorbar\":{\"outlinewidth\":0,\"ticks\":\"\"},\"colorscale\":[[0.0,\"#0d0887\"],[0.1111111111111111,\"#46039f\"],[0.2222222222222222,\"#7201a8\"],[0.3333333333333333,\"#9c179e\"],[0.4444444444444444,\"#bd3786\"],[0.5555555555555556,\"#d8576b\"],[0.6666666666666666,\"#ed7953\"],[0.7777777777777778,\"#fb9f3a\"],[0.8888888888888888,\"#fdca26\"],[1.0,\"#f0f921\"]],\"type\":\"histogram2dcontour\"}],\"mesh3d\":[{\"colorbar\":{\"outlinewidth\":0,\"ticks\":\"\"},\"type\":\"mesh3d\"}],\"parcoords\":[{\"line\":{\"colorbar\":{\"outlinewidth\":0,\"ticks\":\"\"}},\"type\":\"parcoords\"}],\"pie\":[{\"automargin\":true,\"type\":\"pie\"}],\"scatter\":[{\"marker\":{\"colorbar\":{\"outlinewidth\":0,\"ticks\":\"\"}},\"type\":\"scatter\"}],\"scatter3d\":[{\"line\":{\"colorbar\":{\"outlinewidth\":0,\"ticks\":\"\"}},\"marker\":{\"colorbar\":{\"outlinewidth\":0,\"ticks\":\"\"}},\"type\":\"scatter3d\"}],\"scattercarpet\":[{\"marker\":{\"colorbar\":{\"outlinewidth\":0,\"ticks\":\"\"}},\"type\":\"scattercarpet\"}],\"scattergeo\":[{\"marker\":{\"colorbar\":{\"outlinewidth\":0,\"ticks\":\"\"}},\"type\":\"scattergeo\"}],\"scattergl\":[{\"marker\":{\"colorbar\":{\"outlinewidth\":0,\"ticks\":\"\"}},\"type\":\"scattergl\"}],\"scattermapbox\":[{\"marker\":{\"colorbar\":{\"outlinewidth\":0,\"ticks\":\"\"}},\"type\":\"scattermapbox\"}],\"scatterpolar\":[{\"marker\":{\"colorbar\":{\"outlinewidth\":0,\"ticks\":\"\"}},\"type\":\"scatterpolar\"}],\"scatterpolargl\":[{\"marker\":{\"colorbar\":{\"outlinewidth\":0,\"ticks\":\"\"}},\"type\":\"scatterpolargl\"}],\"scatterternary\":[{\"marker\":{\"colorbar\":{\"outlinewidth\":0,\"ticks\":\"\"}},\"type\":\"scatterternary\"}],\"surface\":[{\"colorbar\":{\"outlinewidth\":0,\"ticks\":\"\"},\"colorscale\":[[0.0,\"#0d0887\"],[0.1111111111111111,\"#46039f\"],[0.2222222222222222,\"#7201a8\"],[0.3333333333333333,\"#9c179e\"],[0.4444444444444444,\"#bd3786\"],[0.5555555555555556,\"#d8576b\"],[0.6666666666666666,\"#ed7953\"],[0.7777777777777778,\"#fb9f3a\"],[0.8888888888888888,\"#fdca26\"],[1.0,\"#f0f921\"]],\"type\":\"surface\"}],\"table\":[{\"cells\":{\"fill\":{\"color\":\"#EBF0F8\"},\"line\":{\"color\":\"white\"}},\"header\":{\"fill\":{\"color\":\"#C8D4E3\"},\"line\":{\"color\":\"white\"}},\"type\":\"table\"}]},\"layout\":{\"annotationdefaults\":{\"arrowcolor\":\"#2a3f5f\",\"arrowhead\":0,\"arrowwidth\":1},\"autotypenumbers\":\"strict\",\"coloraxis\":{\"colorbar\":{\"outlinewidth\":0,\"ticks\":\"\"}},\"colorscale\":{\"diverging\":[[0,\"#8e0152\"],[0.1,\"#c51b7d\"],[0.2,\"#de77ae\"],[0.3,\"#f1b6da\"],[0.4,\"#fde0ef\"],[0.5,\"#f7f7f7\"],[0.6,\"#e6f5d0\"],[0.7,\"#b8e186\"],[0.8,\"#7fbc41\"],[0.9,\"#4d9221\"],[1,\"#276419\"]],\"sequential\":[[0.0,\"#0d0887\"],[0.1111111111111111,\"#46039f\"],[0.2222222222222222,\"#7201a8\"],[0.3333333333333333,\"#9c179e\"],[0.4444444444444444,\"#bd3786\"],[0.5555555555555556,\"#d8576b\"],[0.6666666666666666,\"#ed7953\"],[0.7777777777777778,\"#fb9f3a\"],[0.8888888888888888,\"#fdca26\"],[1.0,\"#f0f921\"]],\"sequentialminus\":[[0.0,\"#0d0887\"],[0.1111111111111111,\"#46039f\"],[0.2222222222222222,\"#7201a8\"],[0.3333333333333333,\"#9c179e\"],[0.4444444444444444,\"#bd3786\"],[0.5555555555555556,\"#d8576b\"],[0.6666666666666666,\"#ed7953\"],[0.7777777777777778,\"#fb9f3a\"],[0.8888888888888888,\"#fdca26\"],[1.0,\"#f0f921\"]]},\"colorway\":[\"#636efa\",\"#EF553B\",\"#00cc96\",\"#ab63fa\",\"#FFA15A\",\"#19d3f3\",\"#FF6692\",\"#B6E880\",\"#FF97FF\",\"#FECB52\"],\"font\":{\"color\":\"#2a3f5f\"},\"geo\":{\"bgcolor\":\"white\",\"lakecolor\":\"white\",\"landcolor\":\"#E5ECF6\",\"showlakes\":true,\"showland\":true,\"subunitcolor\":\"white\"},\"hoverlabel\":{\"align\":\"left\"},\"hovermode\":\"closest\",\"mapbox\":{\"style\":\"light\"},\"paper_bgcolor\":\"white\",\"plot_bgcolor\":\"#E5ECF6\",\"polar\":{\"angularaxis\":{\"gridcolor\":\"white\",\"linecolor\":\"white\",\"ticks\":\"\"},\"bgcolor\":\"#E5ECF6\",\"radialaxis\":{\"gridcolor\":\"white\",\"linecolor\":\"white\",\"ticks\":\"\"}},\"scene\":{\"xaxis\":{\"backgroundcolor\":\"#E5ECF6\",\"gridcolor\":\"white\",\"gridwidth\":2,\"linecolor\":\"white\",\"showbackground\":true,\"ticks\":\"\",\"zerolinecolor\":\"white\"},\"yaxis\":{\"backgroundcolor\":\"#E5ECF6\",\"gridcolor\":\"white\",\"gridwidth\":2,\"linecolor\":\"white\",\"showbackground\":true,\"ticks\":\"\",\"zerolinecolor\":\"white\"},\"zaxis\":{\"backgroundcolor\":\"#E5ECF6\",\"gridcolor\":\"white\",\"gridwidth\":2,\"linecolor\":\"white\",\"showbackground\":true,\"ticks\":\"\",\"zerolinecolor\":\"white\"}},\"shapedefaults\":{\"line\":{\"color\":\"#2a3f5f\"}},\"ternary\":{\"aaxis\":{\"gridcolor\":\"white\",\"linecolor\":\"white\",\"ticks\":\"\"},\"baxis\":{\"gridcolor\":\"white\",\"linecolor\":\"white\",\"ticks\":\"\"},\"bgcolor\":\"#E5ECF6\",\"caxis\":{\"gridcolor\":\"white\",\"linecolor\":\"white\",\"ticks\":\"\"}},\"title\":{\"x\":0.05},\"xaxis\":{\"automargin\":true,\"gridcolor\":\"white\",\"linecolor\":\"white\",\"ticks\":\"\",\"title\":{\"standoff\":15},\"zerolinecolor\":\"white\",\"zerolinewidth\":2},\"yaxis\":{\"automargin\":true,\"gridcolor\":\"white\",\"linecolor\":\"white\",\"ticks\":\"\",\"title\":{\"standoff\":15},\"zerolinecolor\":\"white\",\"zerolinewidth\":2}}},\"xaxis\":{\"rangeslider\":{\"visible\":false}}},                        {\"responsive\": true}                    ).then(function(){\n                            \nvar gd = document.getElementById('c152585c-e00f-4e1e-a40a-cdeb56a4c55c');\nvar x = new MutationObserver(function (mutations, observer) {{\n        var display = window.getComputedStyle(gd).display;\n        if (!display || display === 'none') {{\n            console.log([gd, 'removed!']);\n            Plotly.purge(gd);\n            observer.disconnect();\n        }}\n}});\n\n// Listen for the removal of the full notebook cells\nvar notebookContainer = gd.closest('#notebook-container');\nif (notebookContainer) {{\n    x.observe(notebookContainer, {childList: true});\n}}\n\n// Listen for the clearing of the current output cell\nvar outputEl = gd.closest('.output');\nif (outputEl) {{\n    x.observe(outputEl, {childList: true});\n}}\n\n                        })                };                });            </script>        </div>"
     },
     "metadata": {},
     "output_type": "display_data"
    }
   ],
   "source": [
    "fig = go.Figure(data=[go.Candlestick(x = candlestick_data['date'],\n",
    "                                     open=candlestick_data['Price']['first'],\n",
    "                                     high=candlestick_data['Price']['max'],\n",
    "                                     low=candlestick_data['Price']['min'],\n",
    "                                     close=candlestick_data['Price']['last'] )\n",
    "                      ])\n",
    "\n",
    "fig.update_layout(xaxis_rangeslider_visible=False)\n",
    "fig.show()"
   ],
   "metadata": {
    "collapsed": false,
    "pycharm": {
     "name": "#%%\n"
    }
   }
  },
  {
   "cell_type": "code",
   "execution_count": null,
   "outputs": [],
   "source": [],
   "metadata": {
    "collapsed": false,
    "pycharm": {
     "name": "#%%\n"
    }
   }
  }
 ],
 "metadata": {
  "kernelspec": {
   "display_name": "Python 3",
   "language": "python",
   "name": "python3"
  },
  "language_info": {
   "codemirror_mode": {
    "name": "ipython",
    "version": 2
   },
   "file_extension": ".py",
   "mimetype": "text/x-python",
   "name": "python",
   "nbconvert_exporter": "python",
   "pygments_lexer": "ipython2",
   "version": "2.7.6"
  }
 },
 "nbformat": 4,
 "nbformat_minor": 0
}