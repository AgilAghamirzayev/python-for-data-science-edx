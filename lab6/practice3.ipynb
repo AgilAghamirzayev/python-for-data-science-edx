{
 "cells": [
  {
   "cell_type": "code",
   "execution_count": 1,
   "metadata": {
    "collapsed": true
   },
   "outputs": [
    {
     "data": {
      "text/plain": "                    John       Doe                 120 jefferson st.  \\\n0                   Jack  McGinnis                      220 hobo Av.   \n1          John \"Da Man\"    Repici                 120 Jefferson St.   \n2                Stephen     Tyler  7452 Terrace \"At the Plaza\" road   \n3                    NaN  Blankman                               NaN   \n4  Joan \"the bone\", Anne       Jet               9th, at Terrace plc   \n\n     Riverside   NJ   08075  \n0        Phila   PA    9119  \n1    Riverside   NJ    8075  \n2     SomeTown   SD   91234  \n3     SomeTown   SD     298  \n4  Desert City   CO     123  ",
      "text/html": "<div>\n<style scoped>\n    .dataframe tbody tr th:only-of-type {\n        vertical-align: middle;\n    }\n\n    .dataframe tbody tr th {\n        vertical-align: top;\n    }\n\n    .dataframe thead th {\n        text-align: right;\n    }\n</style>\n<table border=\"1\" class=\"dataframe\">\n  <thead>\n    <tr style=\"text-align: right;\">\n      <th></th>\n      <th>John</th>\n      <th>Doe</th>\n      <th>120 jefferson st.</th>\n      <th>Riverside</th>\n      <th>NJ</th>\n      <th>08075</th>\n    </tr>\n  </thead>\n  <tbody>\n    <tr>\n      <th>0</th>\n      <td>Jack</td>\n      <td>McGinnis</td>\n      <td>220 hobo Av.</td>\n      <td>Phila</td>\n      <td>PA</td>\n      <td>9119</td>\n    </tr>\n    <tr>\n      <th>1</th>\n      <td>John \"Da Man\"</td>\n      <td>Repici</td>\n      <td>120 Jefferson St.</td>\n      <td>Riverside</td>\n      <td>NJ</td>\n      <td>8075</td>\n    </tr>\n    <tr>\n      <th>2</th>\n      <td>Stephen</td>\n      <td>Tyler</td>\n      <td>7452 Terrace \"At the Plaza\" road</td>\n      <td>SomeTown</td>\n      <td>SD</td>\n      <td>91234</td>\n    </tr>\n    <tr>\n      <th>3</th>\n      <td>NaN</td>\n      <td>Blankman</td>\n      <td>NaN</td>\n      <td>SomeTown</td>\n      <td>SD</td>\n      <td>298</td>\n    </tr>\n    <tr>\n      <th>4</th>\n      <td>Joan \"the bone\", Anne</td>\n      <td>Jet</td>\n      <td>9th, at Terrace plc</td>\n      <td>Desert City</td>\n      <td>CO</td>\n      <td>123</td>\n    </tr>\n  </tbody>\n</table>\n</div>"
     },
     "execution_count": 1,
     "metadata": {},
     "output_type": "execute_result"
    }
   ],
   "source": [
    "import pandas as pd\n",
    "url ='https://cf-courses-data.s3.us.cloud-object-storage.appdomain.cloud/IBMDeveloperSkillsNetwork-PY0101EN-SkillsNetwork/labs/Module%205/data/addresses.csv'\n",
    "df = pd.read_csv(url)\n",
    "df"
   ]
  },
  {
   "cell_type": "code",
   "execution_count": 3,
   "outputs": [
    {
     "data": {
      "text/plain": "              First Name Last Name                          Location  \\\n0                   Jack  McGinnis                      220 hobo Av.   \n1          John \"Da Man\"    Repici                 120 Jefferson St.   \n2                Stephen     Tyler  7452 Terrace \"At the Plaza\" road   \n3                    NaN  Blankman                               NaN   \n4  Joan \"the bone\", Anne       Jet               9th, at Terrace plc   \n\n          City State  Area Code  \n0        Phila    PA       9119  \n1    Riverside    NJ       8075  \n2     SomeTown    SD      91234  \n3     SomeTown    SD        298  \n4  Desert City    CO        123  ",
      "text/html": "<div>\n<style scoped>\n    .dataframe tbody tr th:only-of-type {\n        vertical-align: middle;\n    }\n\n    .dataframe tbody tr th {\n        vertical-align: top;\n    }\n\n    .dataframe thead th {\n        text-align: right;\n    }\n</style>\n<table border=\"1\" class=\"dataframe\">\n  <thead>\n    <tr style=\"text-align: right;\">\n      <th></th>\n      <th>First Name</th>\n      <th>Last Name</th>\n      <th>Location</th>\n      <th>City</th>\n      <th>State</th>\n      <th>Area Code</th>\n    </tr>\n  </thead>\n  <tbody>\n    <tr>\n      <th>0</th>\n      <td>Jack</td>\n      <td>McGinnis</td>\n      <td>220 hobo Av.</td>\n      <td>Phila</td>\n      <td>PA</td>\n      <td>9119</td>\n    </tr>\n    <tr>\n      <th>1</th>\n      <td>John \"Da Man\"</td>\n      <td>Repici</td>\n      <td>120 Jefferson St.</td>\n      <td>Riverside</td>\n      <td>NJ</td>\n      <td>8075</td>\n    </tr>\n    <tr>\n      <th>2</th>\n      <td>Stephen</td>\n      <td>Tyler</td>\n      <td>7452 Terrace \"At the Plaza\" road</td>\n      <td>SomeTown</td>\n      <td>SD</td>\n      <td>91234</td>\n    </tr>\n    <tr>\n      <th>3</th>\n      <td>NaN</td>\n      <td>Blankman</td>\n      <td>NaN</td>\n      <td>SomeTown</td>\n      <td>SD</td>\n      <td>298</td>\n    </tr>\n    <tr>\n      <th>4</th>\n      <td>Joan \"the bone\", Anne</td>\n      <td>Jet</td>\n      <td>9th, at Terrace plc</td>\n      <td>Desert City</td>\n      <td>CO</td>\n      <td>123</td>\n    </tr>\n  </tbody>\n</table>\n</div>"
     },
     "execution_count": 3,
     "metadata": {},
     "output_type": "execute_result"
    }
   ],
   "source": [
    "df.columns = ['First Name', 'Last Name', 'Location', 'City', 'State', 'Area Code']\n",
    "df"
   ],
   "metadata": {
    "collapsed": false,
    "pycharm": {
     "name": "#%%\n"
    }
   }
  },
  {
   "cell_type": "code",
   "execution_count": 5,
   "outputs": [
    {
     "data": {
      "text/plain": "0                     Jack\n1            John \"Da Man\"\n2                  Stephen\n3                      NaN\n4    Joan \"the bone\", Anne\nName: First Name, dtype: object"
     },
     "execution_count": 5,
     "metadata": {},
     "output_type": "execute_result"
    }
   ],
   "source": [
    "df['First Name']"
   ],
   "metadata": {
    "collapsed": false,
    "pycharm": {
     "name": "#%%\n"
    }
   }
  },
  {
   "cell_type": "code",
   "execution_count": 8,
   "outputs": [
    {
     "data": {
      "text/plain": "              First Name Last Name                          Location  \\\n0                   Jack  McGinnis                      220 hobo Av.   \n1          John \"Da Man\"    Repici                 120 Jefferson St.   \n2                Stephen     Tyler  7452 Terrace \"At the Plaza\" road   \n3                    NaN  Blankman                               NaN   \n4  Joan \"the bone\", Anne       Jet               9th, at Terrace plc   \n\n          City State  Area Code  \n0        Phila    PA       9119  \n1    Riverside    NJ       8075  \n2     SomeTown    SD      91234  \n3     SomeTown    SD        298  \n4  Desert City    CO        123  ",
      "text/html": "<div>\n<style scoped>\n    .dataframe tbody tr th:only-of-type {\n        vertical-align: middle;\n    }\n\n    .dataframe tbody tr th {\n        vertical-align: top;\n    }\n\n    .dataframe thead th {\n        text-align: right;\n    }\n</style>\n<table border=\"1\" class=\"dataframe\">\n  <thead>\n    <tr style=\"text-align: right;\">\n      <th></th>\n      <th>First Name</th>\n      <th>Last Name</th>\n      <th>Location</th>\n      <th>City</th>\n      <th>State</th>\n      <th>Area Code</th>\n    </tr>\n  </thead>\n  <tbody>\n    <tr>\n      <th>0</th>\n      <td>Jack</td>\n      <td>McGinnis</td>\n      <td>220 hobo Av.</td>\n      <td>Phila</td>\n      <td>PA</td>\n      <td>9119</td>\n    </tr>\n    <tr>\n      <th>1</th>\n      <td>John \"Da Man\"</td>\n      <td>Repici</td>\n      <td>120 Jefferson St.</td>\n      <td>Riverside</td>\n      <td>NJ</td>\n      <td>8075</td>\n    </tr>\n    <tr>\n      <th>2</th>\n      <td>Stephen</td>\n      <td>Tyler</td>\n      <td>7452 Terrace \"At the Plaza\" road</td>\n      <td>SomeTown</td>\n      <td>SD</td>\n      <td>91234</td>\n    </tr>\n    <tr>\n      <th>3</th>\n      <td>NaN</td>\n      <td>Blankman</td>\n      <td>NaN</td>\n      <td>SomeTown</td>\n      <td>SD</td>\n      <td>298</td>\n    </tr>\n    <tr>\n      <th>4</th>\n      <td>Joan \"the bone\", Anne</td>\n      <td>Jet</td>\n      <td>9th, at Terrace plc</td>\n      <td>Desert City</td>\n      <td>CO</td>\n      <td>123</td>\n    </tr>\n  </tbody>\n</table>\n</div>"
     },
     "execution_count": 8,
     "metadata": {},
     "output_type": "execute_result"
    }
   ],
   "source": [
    "df = df[['First Name', 'Last Name', 'Location', 'City','State','Area Code']]\n",
    "df"
   ],
   "metadata": {
    "collapsed": false,
    "pycharm": {
     "name": "#%%\n"
    }
   }
  },
  {
   "cell_type": "code",
   "execution_count": 10,
   "outputs": [
    {
     "data": {
      "text/plain": "First Name            Jack\nLast Name         McGinnis\nLocation      220 hobo Av.\nCity                 Phila\nState                   PA\nArea Code             9119\nName: 0, dtype: object"
     },
     "execution_count": 10,
     "metadata": {},
     "output_type": "execute_result"
    }
   ],
   "source": [
    "df.loc[0]"
   ],
   "metadata": {
    "collapsed": false,
    "pycharm": {
     "name": "#%%\n"
    }
   }
  },
  {
   "cell_type": "code",
   "execution_count": 12,
   "outputs": [
    {
     "data": {
      "text/plain": "0             Jack\n1    John \"Da Man\"\n2          Stephen\nName: First Name, dtype: object"
     },
     "execution_count": 12,
     "metadata": {},
     "output_type": "execute_result"
    }
   ],
   "source": [
    "df.loc[[0,1,2], 'First Name']"
   ],
   "metadata": {
    "collapsed": false,
    "pycharm": {
     "name": "#%%\n"
    }
   }
  },
  {
   "cell_type": "code",
   "execution_count": 13,
   "outputs": [
    {
     "data": {
      "text/plain": "0             Jack\n1    John \"Da Man\"\n2          Stephen\nName: First Name, dtype: object"
     },
     "execution_count": 13,
     "metadata": {},
     "output_type": "execute_result"
    }
   ],
   "source": [
    "df.iloc[[0,1,2], 0]"
   ],
   "metadata": {
    "collapsed": false,
    "pycharm": {
     "name": "#%%\n"
    }
   }
  },
  {
   "cell_type": "code",
   "execution_count": 16,
   "outputs": [
    {
     "data": {
      "text/plain": "   a  b  c\n0  1  2  3\n1  4  5  6\n2  7  8  9",
      "text/html": "<div>\n<style scoped>\n    .dataframe tbody tr th:only-of-type {\n        vertical-align: middle;\n    }\n\n    .dataframe tbody tr th {\n        vertical-align: top;\n    }\n\n    .dataframe thead th {\n        text-align: right;\n    }\n</style>\n<table border=\"1\" class=\"dataframe\">\n  <thead>\n    <tr style=\"text-align: right;\">\n      <th></th>\n      <th>a</th>\n      <th>b</th>\n      <th>c</th>\n    </tr>\n  </thead>\n  <tbody>\n    <tr>\n      <th>0</th>\n      <td>1</td>\n      <td>2</td>\n      <td>3</td>\n    </tr>\n    <tr>\n      <th>1</th>\n      <td>4</td>\n      <td>5</td>\n      <td>6</td>\n    </tr>\n    <tr>\n      <th>2</th>\n      <td>7</td>\n      <td>8</td>\n      <td>9</td>\n    </tr>\n  </tbody>\n</table>\n</div>"
     },
     "execution_count": 16,
     "metadata": {},
     "output_type": "execute_result"
    }
   ],
   "source": [
    "import pandas as pd\n",
    "import numpy as np\n",
    "df  = pd.DataFrame(np.array([[1,2,3],[4,5,6], [7,8,9]]), columns=['a', 'b', 'c'])\n",
    "df"
   ],
   "metadata": {
    "collapsed": false,
    "pycharm": {
     "name": "#%%\n"
    }
   }
  },
  {
   "cell_type": "code",
   "execution_count": 17,
   "outputs": [
    {
     "data": {
      "text/plain": "    a   b   c\n0  11  12  13\n1  14  15  16\n2  17  18  19",
      "text/html": "<div>\n<style scoped>\n    .dataframe tbody tr th:only-of-type {\n        vertical-align: middle;\n    }\n\n    .dataframe tbody tr th {\n        vertical-align: top;\n    }\n\n    .dataframe thead th {\n        text-align: right;\n    }\n</style>\n<table border=\"1\" class=\"dataframe\">\n  <thead>\n    <tr style=\"text-align: right;\">\n      <th></th>\n      <th>a</th>\n      <th>b</th>\n      <th>c</th>\n    </tr>\n  </thead>\n  <tbody>\n    <tr>\n      <th>0</th>\n      <td>11</td>\n      <td>12</td>\n      <td>13</td>\n    </tr>\n    <tr>\n      <th>1</th>\n      <td>14</td>\n      <td>15</td>\n      <td>16</td>\n    </tr>\n    <tr>\n      <th>2</th>\n      <td>17</td>\n      <td>18</td>\n      <td>19</td>\n    </tr>\n  </tbody>\n</table>\n</div>"
     },
     "execution_count": 17,
     "metadata": {},
     "output_type": "execute_result"
    }
   ],
   "source": [
    "df = df.transform(func = lambda x : x + 10)\n",
    "df"
   ],
   "metadata": {
    "collapsed": false,
    "pycharm": {
     "name": "#%%\n"
    }
   }
  },
  {
   "cell_type": "code",
   "execution_count": 18,
   "outputs": [
    {
     "data": {
      "text/plain": "          a         b         c\n       sqrt      sqrt      sqrt\n0  3.316625  3.464102  3.605551\n1  3.741657  3.872983  4.000000\n2  4.123106  4.242641  4.358899",
      "text/html": "<div>\n<style scoped>\n    .dataframe tbody tr th:only-of-type {\n        vertical-align: middle;\n    }\n\n    .dataframe tbody tr th {\n        vertical-align: top;\n    }\n\n    .dataframe thead tr th {\n        text-align: left;\n    }\n</style>\n<table border=\"1\" class=\"dataframe\">\n  <thead>\n    <tr>\n      <th></th>\n      <th>a</th>\n      <th>b</th>\n      <th>c</th>\n    </tr>\n    <tr>\n      <th></th>\n      <th>sqrt</th>\n      <th>sqrt</th>\n      <th>sqrt</th>\n    </tr>\n  </thead>\n  <tbody>\n    <tr>\n      <th>0</th>\n      <td>3.316625</td>\n      <td>3.464102</td>\n      <td>3.605551</td>\n    </tr>\n    <tr>\n      <th>1</th>\n      <td>3.741657</td>\n      <td>3.872983</td>\n      <td>4.000000</td>\n    </tr>\n    <tr>\n      <th>2</th>\n      <td>4.123106</td>\n      <td>4.242641</td>\n      <td>4.358899</td>\n    </tr>\n  </tbody>\n</table>\n</div>"
     },
     "execution_count": 18,
     "metadata": {},
     "output_type": "execute_result"
    }
   ],
   "source": [
    "result = df.transform(func = ['sqrt'])\n",
    "result"
   ],
   "metadata": {
    "collapsed": false,
    "pycharm": {
     "name": "#%%\n"
    }
   }
  },
  {
   "cell_type": "code",
   "execution_count": null,
   "outputs": [],
   "source": [],
   "metadata": {
    "collapsed": false,
    "pycharm": {
     "name": "#%%\n"
    }
   }
  }
 ],
 "metadata": {
  "kernelspec": {
   "display_name": "Python 3",
   "language": "python",
   "name": "python3"
  },
  "language_info": {
   "codemirror_mode": {
    "name": "ipython",
    "version": 2
   },
   "file_extension": ".py",
   "mimetype": "text/x-python",
   "name": "python",
   "nbconvert_exporter": "python",
   "pygments_lexer": "ipython2",
   "version": "2.7.6"
  }
 },
 "nbformat": 4,
 "nbformat_minor": 0
}