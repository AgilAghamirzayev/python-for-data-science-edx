{
 "cells": [
  {
   "cell_type": "code",
   "execution_count": 8,
   "metadata": {
    "collapsed": true,
    "pycharm": {
     "name": "#%%\n"
    }
   },
   "outputs": [],
   "source": [
    "import pandas as pd\n",
    "import urllib.request\n",
    "import xml.etree.ElementTree as ET\n",
    "import xml.etree.ElementTree as etree\n",
    "\n",
    "urllib.request.urlretrieve(\n",
    "    \"https://cf-courses-data.s3.us.cloud-object-storage.appdomain.cloud/IBMDeveloperSkillsNetwork-PY0101EN-SkillsNetwork/labs/Module%205/data/file_example_XLSX_10.xlsx\",\n",
    "    \"sample.xlsx\")\n",
    "df = pd.read_excel(\"sample.xlsx\")\n",
    "\n",
    "employee = ET.Element('employee')\n",
    "details = ET.SubElement(employee, 'details')\n",
    "first = ET.SubElement(details, 'firstname')\n",
    "second = ET.SubElement(details, 'lastname')\n",
    "third = ET.SubElement(details, 'age')\n",
    "first.text = 'Shiv'\n",
    "second.text = 'Mishra'\n",
    "third.text = '23'\n",
    "\n",
    "mydata1 = ET.ElementTree(employee)\n",
    "\n",
    "with open('new_sample.xml', 'wb') as files:\n",
    "    mydata1.write(files)"
   ]
  },
  {
   "cell_type": "code",
   "execution_count": 11,
   "outputs": [
    {
     "ename": "ParseError",
     "evalue": "not well-formed (invalid token): line 1, column 2 (<string>)",
     "output_type": "error",
     "traceback": [
      "Traceback \u001B[1;36m(most recent call last)\u001B[0m:\n",
      "  File \u001B[0;32m\"f:\\python\\test\\venv\\lib\\site-packages\\IPython\\core\\interactiveshell.py\"\u001B[0m, line \u001B[0;32m3441\u001B[0m, in \u001B[0;35mrun_code\u001B[0m\n    exec(code_obj, self.user_global_ns, self.user_ns)\n",
      "  File \u001B[0;32m\"C:\\Users\\aqilz\\AppData\\Local\\Temp/ipykernel_13912/267643858.py\"\u001B[0m, line \u001B[0;32m1\u001B[0m, in \u001B[0;35m<module>\u001B[0m\n    tree = etree.parse(\"sample.xlsx\")\n",
      "  File \u001B[0;32m\"C:\\Users\\aqilz\\AppData\\Local\\Programs\\Python\\Python38\\lib\\xml\\etree\\ElementTree.py\"\u001B[0m, line \u001B[0;32m1202\u001B[0m, in \u001B[0;35mparse\u001B[0m\n    tree.parse(source, parser)\n",
      "\u001B[1;36m  File \u001B[1;32m\"C:\\Users\\aqilz\\AppData\\Local\\Programs\\Python\\Python38\\lib\\xml\\etree\\ElementTree.py\"\u001B[1;36m, line \u001B[1;32m595\u001B[1;36m, in \u001B[1;35mparse\u001B[1;36m\u001B[0m\n\u001B[1;33m    self._root = parser._parse_whole(source)\u001B[0m\n",
      "\u001B[1;36m  File \u001B[1;32m\"<string>\"\u001B[1;36m, line \u001B[1;32munknown\u001B[0m\n\u001B[1;31mParseError\u001B[0m\u001B[1;31m:\u001B[0m not well-formed (invalid token): line 1, column 2\n"
     ]
    }
   ],
   "source": [
    "tree = etree.parse(\"sample.xlsx\")\n",
    "\n",
    "root = tree.getroot()\n",
    "columns = [\"firstname\", \"lastname\", \"title\", \"division\", \"building\",\"room\"]\n",
    "\n",
    "datatframe = pd.DataFrame(columns = columns)\n",
    "\n",
    "for node in root:\n",
    "\n",
    "    firstname = node.find(\"firstname\").text\n",
    "\n",
    "    lastname = node.find(\"lastname\").text\n",
    "\n",
    "    title = node.find(\"title\").text\n",
    "\n",
    "    division = node.find(\"division\").text\n",
    "\n",
    "    building = node.find(\"building\").text\n",
    "\n",
    "    room = node.find(\"room\").text\n",
    "\n",
    "    datatframe = datatframe.append(pd.Series([firstname, lastname, title, division, building, room], index = columns), ignore_index = True)\n",
    "\n",
    "datatframe\n",
    "\n",
    "datatframe.to_csv('employee.csv', index=False)"
   ],
   "metadata": {
    "collapsed": false,
    "pycharm": {
     "name": "#%%\n"
    }
   }
  }
 ],
 "metadata": {
  "kernelspec": {
   "display_name": "Python 3",
   "language": "python",
   "name": "python3"
  },
  "language_info": {
   "codemirror_mode": {
    "name": "ipython",
    "version": 2
   },
   "file_extension": ".py",
   "mimetype": "text/x-python",
   "name": "python",
   "nbconvert_exporter": "python",
   "pygments_lexer": "ipython2",
   "version": "2.7.6"
  }
 },
 "nbformat": 4,
 "nbformat_minor": 0
}